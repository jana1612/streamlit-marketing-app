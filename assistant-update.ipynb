{
  "cells": [
    {
      "cell_type": "markdown",
      "metadata": {},
      "source": [
        "# Update your AI Assistant\n"
      ]
    },
    {
      "cell_type": "markdown",
      "metadata": {},
      "source": [
        "## Setup\n",
        "\n",
        "Let's get started!"
      ]
    },
    {
      "cell_type": "code",
      "execution_count": 1,
      "metadata": {},
      "outputs": [],
      "source": [
        "import openai\n",
        "from openai import OpenAI\n",
        "import os\n",
        "from dotenv import load_dotenv, find_dotenv\n",
        "\n",
        "# Load the environment variables\n",
        "_ = load_dotenv(find_dotenv())\n",
        "openai.api_key = os.getenv('OPENAI_API_KEY')"
      ]
    },
    {
      "cell_type": "markdown",
      "metadata": {},
      "source": [
        "Sart the session"
      ]
    },
    {
      "cell_type": "code",
      "execution_count": 2,
      "metadata": {},
      "outputs": [],
      "source": [
        "client = OpenAI()"
      ]
    },
    {
      "cell_type": "markdown",
      "metadata": {},
      "source": [
        "Provide the Assistant ID that you want to update:"
      ]
    },
    {
      "cell_type": "code",
      "execution_count": 3,
      "metadata": {},
      "outputs": [],
      "source": [
        "assistant_id = 'asst_KcmblijC7qIAmf0fH7SdVWa8'  # Replace with the actual Assistant ID"
      ]
    },
    {
      "cell_type": "markdown",
      "metadata": {},
      "source": [
        "## Provide updated instructions"
      ]
    },
    {
      "cell_type": "markdown",
      "metadata": {},
      "source": [
        "Provide your updated instructions:"
      ]
    },
    {
      "cell_type": "code",
      "execution_count": 13,
      "metadata": {},
      "outputs": [],
      "source": [
        "updated_instructions = \"\"\"\n",
        "I am a [marketing expert] at [Nike, Inc.] and my typical tasks are [writing blogposts about different themes]. Act as [a marketing expert]. Provide the output in [German].\n",
        "\n",
        "# Context\n",
        "Ein Blogartikel wird erstellt basierend auf dem Thema.\n",
        "\n",
        "# Objective\n",
        "Ziel ist es, einen informativen Blogartikel zu generieren, der über die neuen Produkte des Unternehmens informiert.\n",
        "\n",
        "# Mode\n",
        "Der Autor des Artikels ist ein Marketingexperte.\n",
        "\n",
        "# People of Interest\n",
        "Die Zielgruppe sind Leute, die auf Websites oder Social-Media-Plattformen sind und sich über neue Themen von Nike informieren möchten.\n",
        "\n",
        "# Attitude\n",
        "Der Ton des Artikels sollte begeisternd und informativ sein, um das Interesse der Leser zu wecken.\n",
        "\n",
        "# Style\n",
        "Der Schreibstil sollte leicht verständlich und ansprechend sein.\n",
        "\n",
        "# Specifications\n",
        "Der Artikel sollte mindestens 500 Wörter umfassen und kann Grafiken oder Beispiele enthalten, die die Argumente unterstützen. Zusätzlich sollten Smileys und Emojis verwendet werden, um den Text lebendiger und ansprechender zu gestalten. 😊✨📊🖼️🔥🎉🚀\n",
        "\n",
        "# Probetext\n",
        "Habt ihr schon von den neuesten Innovationen bei Nike gehört? 🚀🔥 In diesem Artikel erfahrt ihr alles über die neuesten Produkte und Technologien, die Nike auf den Markt gebracht hat. 📊🖼️🎉\n",
        "\"\"\"\n",
        "\n",
        "# Bei Bedarf, falls keine User-Persona und Unternehmensinformationen vorhanden sind:\n",
        "initial_prompt = \"Bitte geben Sie zuerst Informationen zur User Persona und zum Unternehmen ein.\"\n",
        "\n"
      ]
    },
    {
      "cell_type": "markdown",
      "metadata": {},
      "source": [
        "Now update the Assistant:"
      ]
    },
    {
      "cell_type": "code",
      "execution_count": 14,
      "metadata": {},
      "outputs": [
        {
          "name": "stdout",
          "output_type": "stream",
          "text": [
            "Assistant(id='asst_KcmblijC7qIAmf0fH7SdVWa8', created_at=1715163391, description=None, instructions='\\nI am a [marketing expert] at [Nike, Inc.] and my typical tasks are [writing blogposts about different themes]. Act as [a marketing expert]. Provide the output in [German].\\n\\n# Context\\nEin Blogartikel wird erstellt basierend auf dem Thema.\\n\\n# Objective\\nZiel ist es, einen informativen Blogartikel zu generieren, der über die neuen Produkte des Unternehmens informiert.\\n\\n# Mode\\nDer Autor des Artikels ist ein Marketingexperte.\\n\\n# People of Interest\\nDie Zielgruppe sind Leute, die auf Websites oder Social-Media-Plattformen sind und sich über neue Themen von Nike informieren möchten.\\n\\n# Attitude\\nDer Ton des Artikels sollte begeisternd und informativ sein, um das Interesse der Leser zu wecken.\\n\\n# Style\\nDer Schreibstil sollte leicht verständlich und ansprechend sein.\\n\\n# Specifications\\nDer Artikel sollte mindestens 500 Wörter umfassen und kann Grafiken oder Beispiele enthalten, die die Argumente unterstützen. Zusätzlich sollten Smileys und Emojis verwendet werden, um den Text lebendiger und ansprechender zu gestalten. 😊✨📊🖼️🔥🎉🚀\\n\\n# Probetext\\nHabt ihr schon von den neuesten Innovationen bei Nike gehört? 🚀🔥 In diesem Artikel erfahrt ihr alles über die neuesten Produkte und Technologien, die Nike auf den Markt gebracht hat. 📊🖼️🎉\\n', metadata={}, model='gpt-4o', name='js470', object='assistant', tools=[CodeInterpreterTool(type='code_interpreter')], response_format='auto', temperature=1.0, tool_resources=ToolResources(code_interpreter=ToolResourcesCodeInterpreter(file_ids=[]), file_search=None), top_p=1.0)\n"
          ]
        }
      ],
      "source": [
        "# Update the Assistant\n",
        "updated_assistant = client.beta.assistants.update(\n",
        "    assistant_id=assistant_id,\n",
        "    instructions=updated_instructions,\n",
        "    model =\"gpt-4o\", \n",
        "    # You can add more fields here to update other properties as needed\n",
        ")\n",
        "\n",
        "# Print the response to check the updated assistant details\n",
        "print(updated_assistant)"
      ]
    }
  ],
  "metadata": {
    "kernelspec": {
      "display_name": "Python 3 (ipykernel)",
      "language": "python",
      "name": "python3"
    },
    "language_info": {
      "codemirror_mode": {
        "name": "ipython",
        "version": 3
      },
      "file_extension": ".py",
      "mimetype": "text/x-python",
      "name": "python",
      "nbconvert_exporter": "python",
      "pygments_lexer": "ipython3",
      "version": "3.11.9"
    }
  },
  "nbformat": 4,
  "nbformat_minor": 4
}
